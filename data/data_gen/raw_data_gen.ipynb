{
 "cells": [
  {
   "cell_type": "code",
   "execution_count": 1,
   "id": "f3e04a5c-dafb-412c-a507-690d701db871",
   "metadata": {},
   "outputs": [],
   "source": [
    "import requests\n",
    "import io\n",
    "\n",
    "import numpy as np\n",
    "import pandas as pd\n",
    "\n",
    "from pycoingecko import CoinGeckoAPI\n",
    "\n",
    "from bs4 import BeautifulSoup as bts\n",
    "\n",
    "from selenium import webdriver\n",
    "\n",
    "from PyPDF2 import PdfReader"
   ]
  },
  {
   "cell_type": "markdown",
   "id": "97b3168d-eb6d-42ba-9c0f-a7e9254c8ae9",
   "metadata": {},
   "source": [
    "### Notes"
   ]
  },
  {
   "cell_type": "markdown",
   "id": "cb13b70c-89f0-4627-a206-8e551796698d",
   "metadata": {
    "jp-MarkdownHeadingCollapsed": true
   },
   "source": [
    "**Why isn't this a script?**\n",
    "\n",
    "We are only generating the dataset once. We don't need to write a script that does that is properly formatted and tested, we can do it using a notebooks and test our results at the end."
   ]
  },
  {
   "cell_type": "markdown",
   "id": "732bd66b-c93d-450a-89fa-ae2e07b3516b",
   "metadata": {},
   "source": [
    "**Wtf is going on here?**\n",
    "\n",
    "Haha, yeah it's kind of complicated. And very possibly (probably) overly engineered and convoluted. Oh well.\n",
    "\n",
    "This what's going on:\n",
    "\n",
    "1. Use the CG API to extract market caps of top 100 coins\n",
    "2. Scrape the ramining market caps of all other coins from CG web\n",
    "3. Get whitepaper pdf page urls by scraping whitepaper.io\n",
    "4. Use those to obtain the raw pdf urls\n",
    "5. Feed those pdf urls into a PDF parser and extract pdf data"
   ]
  },
  {
   "cell_type": "markdown",
   "id": "31087a6f-1a73-4430-8464-defe33cfeebc",
   "metadata": {},
   "source": [
    "**Lots of data is wrong!!!**\n",
    "\n",
    "Some of the data might be slightly off but it is all roughly correct. We only need to be roughly correct here because 1) we're primarily concerned with relativity (features systematically reduced due to bad data extraxction doesn't matter) 2) errors will be small (read code) and 3) I don't really care because this whole thing is just kind of illustrative."
   ]
  },
  {
   "cell_type": "markdown",
   "id": "0929534f-a61e-4d86-a764-6999ec951547",
   "metadata": {},
   "source": [
    "## Market Cap DataFrame"
   ]
  },
  {
   "cell_type": "markdown",
   "id": "3ba8d6fa-0428-4fa3-b2e3-a816d7f3d7ea",
   "metadata": {},
   "source": [
    "### Top 100"
   ]
  },
  {
   "cell_type": "markdown",
   "id": "3173a1a4-6201-435e-894a-dcbbc7c8f552",
   "metadata": {},
   "source": [
    "First we use the CG API to get the first 100 (by market cap)."
   ]
  },
  {
   "cell_type": "code",
   "execution_count": 2,
   "id": "0faef955-1c63-4c6e-b929-4266f04a1b8e",
   "metadata": {},
   "outputs": [],
   "source": [
    "# Make a df with all api coin data\n",
    "cg = CoinGeckoAPI()\n",
    "api_cap_df = pd.DataFrame(cg.get_coins_markets(vs_currency=\"usd\"))"
   ]
  },
  {
   "cell_type": "code",
   "execution_count": 3,
   "id": "a245d2f9-2c8d-47c9-86ee-4ab818bafdbf",
   "metadata": {},
   "outputs": [
    {
     "data": {
      "text/html": [
       "<div>\n",
       "<style scoped>\n",
       "    .dataframe tbody tr th:only-of-type {\n",
       "        vertical-align: middle;\n",
       "    }\n",
       "\n",
       "    .dataframe tbody tr th {\n",
       "        vertical-align: top;\n",
       "    }\n",
       "\n",
       "    .dataframe thead th {\n",
       "        text-align: right;\n",
       "    }\n",
       "</style>\n",
       "<table border=\"1\" class=\"dataframe\">\n",
       "  <thead>\n",
       "    <tr style=\"text-align: right;\">\n",
       "      <th></th>\n",
       "      <th>id</th>\n",
       "      <th>symbol</th>\n",
       "      <th>name</th>\n",
       "      <th>image</th>\n",
       "      <th>current_price</th>\n",
       "      <th>market_cap</th>\n",
       "      <th>market_cap_rank</th>\n",
       "      <th>fully_diluted_valuation</th>\n",
       "      <th>total_volume</th>\n",
       "      <th>high_24h</th>\n",
       "      <th>...</th>\n",
       "      <th>total_supply</th>\n",
       "      <th>max_supply</th>\n",
       "      <th>ath</th>\n",
       "      <th>ath_change_percentage</th>\n",
       "      <th>ath_date</th>\n",
       "      <th>atl</th>\n",
       "      <th>atl_change_percentage</th>\n",
       "      <th>atl_date</th>\n",
       "      <th>roi</th>\n",
       "      <th>last_updated</th>\n",
       "    </tr>\n",
       "  </thead>\n",
       "  <tbody>\n",
       "    <tr>\n",
       "      <th>0</th>\n",
       "      <td>bitcoin</td>\n",
       "      <td>btc</td>\n",
       "      <td>Bitcoin</td>\n",
       "      <td>https://coin-images.coingecko.com/coins/images...</td>\n",
       "      <td>60648.00</td>\n",
       "      <td>1196999488396</td>\n",
       "      <td>1</td>\n",
       "      <td>1.273541e+12</td>\n",
       "      <td>23310309259</td>\n",
       "      <td>61495.000</td>\n",
       "      <td>...</td>\n",
       "      <td>2.100000e+07</td>\n",
       "      <td>21000000.0</td>\n",
       "      <td>73738.00</td>\n",
       "      <td>-17.77383</td>\n",
       "      <td>2024-03-14T07:10:36.635Z</td>\n",
       "      <td>67.810000</td>\n",
       "      <td>89315.68213</td>\n",
       "      <td>2013-07-06T00:00:00.000Z</td>\n",
       "      <td>None</td>\n",
       "      <td>2024-08-10T07:34:34.197Z</td>\n",
       "    </tr>\n",
       "    <tr>\n",
       "      <th>1</th>\n",
       "      <td>ethereum</td>\n",
       "      <td>eth</td>\n",
       "      <td>Ethereum</td>\n",
       "      <td>https://coin-images.coingecko.com/coins/images...</td>\n",
       "      <td>2630.32</td>\n",
       "      <td>316299537703</td>\n",
       "      <td>2</td>\n",
       "      <td>3.162995e+11</td>\n",
       "      <td>15648888291</td>\n",
       "      <td>2684.860</td>\n",
       "      <td>...</td>\n",
       "      <td>1.202654e+08</td>\n",
       "      <td>NaN</td>\n",
       "      <td>4878.26</td>\n",
       "      <td>-46.14727</td>\n",
       "      <td>2021-11-10T14:24:19.604Z</td>\n",
       "      <td>0.432979</td>\n",
       "      <td>606644.72776</td>\n",
       "      <td>2015-10-20T00:00:00.000Z</td>\n",
       "      <td>{'times': 56.98768929137249, 'currency': 'btc'...</td>\n",
       "      <td>2024-08-10T07:34:31.991Z</td>\n",
       "    </tr>\n",
       "    <tr>\n",
       "      <th>2</th>\n",
       "      <td>tether</td>\n",
       "      <td>usdt</td>\n",
       "      <td>Tether</td>\n",
       "      <td>https://coin-images.coingecko.com/coins/images...</td>\n",
       "      <td>1.00</td>\n",
       "      <td>115449803905</td>\n",
       "      <td>3</td>\n",
       "      <td>1.154498e+11</td>\n",
       "      <td>43918011814</td>\n",
       "      <td>1.008</td>\n",
       "      <td>...</td>\n",
       "      <td>1.154047e+11</td>\n",
       "      <td>NaN</td>\n",
       "      <td>1.32</td>\n",
       "      <td>-24.36840</td>\n",
       "      <td>2018-07-24T00:00:00.000Z</td>\n",
       "      <td>0.572521</td>\n",
       "      <td>74.78453</td>\n",
       "      <td>2015-03-02T00:00:00.000Z</td>\n",
       "      <td>None</td>\n",
       "      <td>2024-08-10T07:34:31.667Z</td>\n",
       "    </tr>\n",
       "  </tbody>\n",
       "</table>\n",
       "<p>3 rows × 26 columns</p>\n",
       "</div>"
      ],
      "text/plain": [
       "         id symbol      name  \\\n",
       "0   bitcoin    btc   Bitcoin   \n",
       "1  ethereum    eth  Ethereum   \n",
       "2    tether   usdt    Tether   \n",
       "\n",
       "                                               image  current_price  \\\n",
       "0  https://coin-images.coingecko.com/coins/images...       60648.00   \n",
       "1  https://coin-images.coingecko.com/coins/images...        2630.32   \n",
       "2  https://coin-images.coingecko.com/coins/images...           1.00   \n",
       "\n",
       "      market_cap  market_cap_rank  fully_diluted_valuation  total_volume  \\\n",
       "0  1196999488396                1             1.273541e+12   23310309259   \n",
       "1   316299537703                2             3.162995e+11   15648888291   \n",
       "2   115449803905                3             1.154498e+11   43918011814   \n",
       "\n",
       "    high_24h  ...  total_supply  max_supply       ath  ath_change_percentage  \\\n",
       "0  61495.000  ...  2.100000e+07  21000000.0  73738.00              -17.77383   \n",
       "1   2684.860  ...  1.202654e+08         NaN   4878.26              -46.14727   \n",
       "2      1.008  ...  1.154047e+11         NaN      1.32              -24.36840   \n",
       "\n",
       "                   ath_date        atl  atl_change_percentage  \\\n",
       "0  2024-03-14T07:10:36.635Z  67.810000            89315.68213   \n",
       "1  2021-11-10T14:24:19.604Z   0.432979           606644.72776   \n",
       "2  2018-07-24T00:00:00.000Z   0.572521               74.78453   \n",
       "\n",
       "                   atl_date  \\\n",
       "0  2013-07-06T00:00:00.000Z   \n",
       "1  2015-10-20T00:00:00.000Z   \n",
       "2  2015-03-02T00:00:00.000Z   \n",
       "\n",
       "                                                 roi              last_updated  \n",
       "0                                               None  2024-08-10T07:34:34.197Z  \n",
       "1  {'times': 56.98768929137249, 'currency': 'btc'...  2024-08-10T07:34:31.991Z  \n",
       "2                                               None  2024-08-10T07:34:31.667Z  \n",
       "\n",
       "[3 rows x 26 columns]"
      ]
     },
     "execution_count": 3,
     "metadata": {},
     "output_type": "execute_result"
    }
   ],
   "source": [
    "api_cap_df.head(3)"
   ]
  },
  {
   "cell_type": "markdown",
   "id": "6fbb2f7e-c876-4a39-9aa1-9f7cc2fdc287",
   "metadata": {},
   "source": [
    "### All the rest"
   ]
  },
  {
   "cell_type": "markdown",
   "id": "b695a131-82cd-4007-8f8f-b0d5d2cb922f",
   "metadata": {},
   "source": [
    "Unfortunately the API (free version) only allows us to access the top 100 coins.\n",
    "\n",
    "For the others, we scrape their market cap and add this scraped data to a df."
   ]
  },
  {
   "cell_type": "code",
   "execution_count": 4,
   "id": "608f464f-e3b3-4de0-a88f-72ea35f5ff6b",
   "metadata": {},
   "outputs": [],
   "source": [
    "scrape_dict_list = []  # instantiate empty list\n",
    "for page_num in range(2, 47):  # only have market cap info for coins up to page 47 on CG\n",
    "    # Get HTML for the page\n",
    "    url = 'https://www.coingecko.com/?page='+ str(page_num)\n",
    "    result = requests.get(url, headers={\"User-Agent\":\"Mozilla/5.0\"})\n",
    "    soup = bts(result.text, 'html.parser')\n",
    "    # Get list of names and tickers\n",
    "    raw_name_list = soup.findAll('div', class_='tw-text-gray-700 dark:tw-text-moon-100 tw-font-semibold tw-text-sm tw-leading-5')\n",
    "    name_ticker_list = [raw_name.text.split() for raw_name in raw_name_list][1:-1] # [1:] to skip \"Highlights\"\n",
    "    # Get list of market caps\n",
    "    if page_num == 2:\n",
    "        start_mc = 800000000  # starting market cap for the second page of results\n",
    "    else:\n",
    "        start_mc = scrape_dict_list[-1]['market_cap']\n",
    "    raw_price_list = soup.findAll('span', {'data-price-target': 'price'})\n",
    "    mc_list = [start_mc]\n",
    "    for i in range(10, len(raw_price_list)):\n",
    "        num_item = float(raw_price_list[i].text.replace('$', '').replace(',', ''))\n",
    "        if mc_list[-1] > num_item > mc_list[-1]*0.8:  # to ensure we're finding market cap and not other values\n",
    "            mc_list.append(num_item)\n",
    "    mc_list = mc_list[1:] # [1:] to skip start_mc\n",
    "    # Combine into a dictionary and append to list\n",
    "    if len(name_ticker_list) <= len(mc_list):\n",
    "        scrape_len = len(name_ticker_list)\n",
    "    else:\n",
    "        scrape_len = len(mc_list)\n",
    "    for i in range(scrape_len):\n",
    "        coin_dict={}\n",
    "        coin_dict['symbol'] = name_ticker_list[i][-1]\n",
    "        coin_dict['name'] = ' '.join(name_ticker_list[i][:-1])\n",
    "        coin_dict['market_cap'] = mc_list[i]\n",
    "        scrape_dict_list.append(coin_dict)"
   ]
  },
  {
   "cell_type": "code",
   "execution_count": 5,
   "id": "d7543480-675d-4339-a6ef-9e9be8ec7dda",
   "metadata": {},
   "outputs": [],
   "source": [
    "# Make a dataframe with all scrape coin data\n",
    "scrape_cap_df = pd.DataFrame(scrape_dict_list)"
   ]
  },
  {
   "cell_type": "code",
   "execution_count": 6,
   "id": "bbe1f626-926b-49a0-8927-f2cacd2ffdf6",
   "metadata": {},
   "outputs": [
    {
     "data": {
      "text/html": [
       "<div>\n",
       "<style scoped>\n",
       "    .dataframe tbody tr th:only-of-type {\n",
       "        vertical-align: middle;\n",
       "    }\n",
       "\n",
       "    .dataframe tbody tr th {\n",
       "        vertical-align: top;\n",
       "    }\n",
       "\n",
       "    .dataframe thead th {\n",
       "        text-align: right;\n",
       "    }\n",
       "</style>\n",
       "<table border=\"1\" class=\"dataframe\">\n",
       "  <thead>\n",
       "    <tr style=\"text-align: right;\">\n",
       "      <th></th>\n",
       "      <th>symbol</th>\n",
       "      <th>name</th>\n",
       "      <th>market_cap</th>\n",
       "    </tr>\n",
       "  </thead>\n",
       "  <tbody>\n",
       "    <tr>\n",
       "      <th>0</th>\n",
       "      <td>BEAM</td>\n",
       "      <td>Beam</td>\n",
       "      <td>641813304.0</td>\n",
       "    </tr>\n",
       "    <tr>\n",
       "      <th>1</th>\n",
       "      <td>GALA</td>\n",
       "      <td>GALA</td>\n",
       "      <td>634975305.0</td>\n",
       "    </tr>\n",
       "    <tr>\n",
       "      <th>2</th>\n",
       "      <td>XEC</td>\n",
       "      <td>eCash</td>\n",
       "      <td>628390590.0</td>\n",
       "    </tr>\n",
       "  </tbody>\n",
       "</table>\n",
       "</div>"
      ],
      "text/plain": [
       "  symbol   name   market_cap\n",
       "0   BEAM   Beam  641813304.0\n",
       "1   GALA   GALA  634975305.0\n",
       "2    XEC  eCash  628390590.0"
      ]
     },
     "execution_count": 6,
     "metadata": {},
     "output_type": "execute_result"
    }
   ],
   "source": [
    "scrape_cap_df.head(3)"
   ]
  },
  {
   "cell_type": "markdown",
   "id": "02a1a0e1-7d10-467f-adfc-487ea06b7ee7",
   "metadata": {},
   "source": [
    "### Combine to one market cap df"
   ]
  },
  {
   "cell_type": "code",
   "execution_count": 15,
   "id": "28280560-0c2f-4d91-a110-1a3c1ae6f45a",
   "metadata": {},
   "outputs": [],
   "source": [
    "# Transform API df\n",
    "api_trans_df = api_cap_df[['name', 'market_cap']]\n",
    "# Transform scrape df\n",
    "scrape_trans_df = scrape_cap_df[['name', 'market_cap']].astype({'market_cap': 'int64'})"
   ]
  },
  {
   "cell_type": "code",
   "execution_count": 20,
   "id": "cbaadff1-6cce-455a-9603-2e1d22e81fab",
   "metadata": {},
   "outputs": [],
   "source": [
    "# Union - should be roughly disjoint sets\n",
    "combined_cap_df = pd.concat([api_trans_df, scrape_trans_df], axis=0)\n",
    "# Dropping duplicates to be safe\n",
    "clean_combined_cap_df = combined_cap_df.drop_duplicates(subset=['name'], keep=False)"
   ]
  },
  {
   "cell_type": "code",
   "execution_count": 21,
   "id": "a011c0b5-6242-4800-a860-c8c16f6f774c",
   "metadata": {},
   "outputs": [
    {
     "data": {
      "text/html": [
       "<div>\n",
       "<style scoped>\n",
       "    .dataframe tbody tr th:only-of-type {\n",
       "        vertical-align: middle;\n",
       "    }\n",
       "\n",
       "    .dataframe tbody tr th {\n",
       "        vertical-align: top;\n",
       "    }\n",
       "\n",
       "    .dataframe thead th {\n",
       "        text-align: right;\n",
       "    }\n",
       "</style>\n",
       "<table border=\"1\" class=\"dataframe\">\n",
       "  <thead>\n",
       "    <tr style=\"text-align: right;\">\n",
       "      <th></th>\n",
       "      <th>name</th>\n",
       "      <th>market_cap</th>\n",
       "    </tr>\n",
       "  </thead>\n",
       "  <tbody>\n",
       "    <tr>\n",
       "      <th>0</th>\n",
       "      <td>Bitcoin</td>\n",
       "      <td>1196999488396</td>\n",
       "    </tr>\n",
       "    <tr>\n",
       "      <th>1</th>\n",
       "      <td>Ethereum</td>\n",
       "      <td>316299537703</td>\n",
       "    </tr>\n",
       "    <tr>\n",
       "      <th>2</th>\n",
       "      <td>Tether</td>\n",
       "      <td>115449803905</td>\n",
       "    </tr>\n",
       "  </tbody>\n",
       "</table>\n",
       "</div>"
      ],
      "text/plain": [
       "       name     market_cap\n",
       "0   Bitcoin  1196999488396\n",
       "1  Ethereum   316299537703\n",
       "2    Tether   115449803905"
      ]
     },
     "execution_count": 21,
     "metadata": {},
     "output_type": "execute_result"
    }
   ],
   "source": [
    "clean_combined_cap_df.head(3)"
   ]
  },
  {
   "cell_type": "markdown",
   "id": "0f6ff450-7284-4a69-a40e-34eb0eda3b31",
   "metadata": {},
   "source": [
    "## Whitepaper DataFrame"
   ]
  },
  {
   "cell_type": "markdown",
   "id": "448e7559-dd93-43d7-958c-342a0c1b7fa0",
   "metadata": {},
   "source": [
    "Need to scrape extract information from whitepapers found online at https://whitepaper.io/"
   ]
  },
  {
   "cell_type": "markdown",
   "id": "b4704d77-9ce1-4a81-a098-9965e6839664",
   "metadata": {},
   "source": [
    "### Getting WP URLs"
   ]
  },
  {
   "cell_type": "markdown",
   "id": "acbcab6c-4184-4e35-941b-06cb3abff481",
   "metadata": {},
   "source": [
    "Firstly that means scraping the links to the online WP PDF."
   ]
  },
  {
   "cell_type": "code",
   "execution_count": null,
   "id": "0f92931c-93a7-48b6-a894-a2c2b478c86f",
   "metadata": {},
   "outputs": [],
   "source": [
    "link_dict = {}\n",
    "\n",
    "driver = webdriver.Chrome()\n",
    "\n",
    "for j in range(1, 242):\n",
    "    web = f\"https://whitepaper.io/coins?page={j}\"\n",
    "    for i in range(1, 11):\n",
    "        try:\n",
    "            driver.get(web)\n",
    "            \n",
    "            driver.implicitly_wait(1)\n",
    "            \n",
    "            button_path = f'//*[@id=\"whitePapersList\"]/div/div[2]/table/tbody/tr[{i}]/td[2]/a/div/div[1]'  # like button element\n",
    "            button_location = driver.find_element(by='xpath', value=button_path)  # find the like button\n",
    "            driver.execute_script(\"arguments[0].click();\", button_location)  # click on like\n",
    "            \n",
    "            driver.implicitly_wait(1)\n",
    "            \n",
    "            button_path = '//*[@id=\"coin-view\"]/div[1]/div[1]/div[1]/div[1]/div/div/div[3]/div/div/div/div[4]/a'  # like button element\n",
    "            button_location = driver.find_element(by='xpath', value=button_path)  # find the like button\n",
    "            driver.execute_script(\"arguments[0].click();\", button_location)  # click on like\n",
    "            \n",
    "            driver.implicitly_wait(1)\n",
    "    \n",
    "            url = driver.current_url\n",
    "            \n",
    "            link_dict.update({url[url.rfind(\"/\")+1:url.rfind(\"whitepaper\")-1].replace(\"-\", \"_\"): url})\n",
    "        except:\n",
    "            pass\n",
    "\n",
    "driver.quit()"
   ]
  },
  {
   "cell_type": "code",
   "execution_count": null,
   "id": "c37718ef-e12a-4daf-ab6a-785b5c3c29fd",
   "metadata": {},
   "outputs": [],
   "source": [
    "# Make a df with all the scraped links\n",
    "wp_url_df = pd.DataFrame(link_dict, columns=['name', 'raw_wp_url'])"
   ]
  },
  {
   "cell_type": "markdown",
   "id": "17c27f41-fc01-468d-ae18-b8c157a65e1b",
   "metadata": {},
   "source": [
    "### Get PDF URLs"
   ]
  },
  {
   "cell_type": "markdown",
   "id": "1a22027a-e0b6-487f-bfdc-64a7324f94a7",
   "metadata": {},
   "source": [
    "Then we get the PDF link from those pages to pass to our PDF viewer,"
   ]
  },
  {
   "cell_type": "code",
   "execution_count": null,
   "id": "a6c57f8e-e7c5-42f6-b6ac-cea1b27f3e2a",
   "metadata": {},
   "outputs": [],
   "source": [
    "# Function for getting pdf url from raw wp link\n",
    "def get_pdf_url(raw_wp_url):\n",
    "    result = requests.get(raw_wp_url, headers={\"User-Agent\":\"Mozilla/5.0\"})\n",
    "    soup = bts(result.text, 'html.parser')\n",
    "    return soup.find('div', class_=\"flex flex-col flex-1\").object.attrs['data']"
   ]
  },
  {
   "cell_type": "code",
   "execution_count": null,
   "id": "ba282a31-b40d-425a-82ad-3a00778398b3",
   "metadata": {},
   "outputs": [],
   "source": [
    "# Use this function to add pdf url to our df\n",
    "wp_url_df['pdf_url'] = wp_url_df.apply(lambda x: get_pdf_url(x))"
   ]
  },
  {
   "cell_type": "markdown",
   "id": "669ee401-9881-4fb0-b09d-fd6bd976c415",
   "metadata": {},
   "source": [
    "### Get WP attributes"
   ]
  },
  {
   "cell_type": "markdown",
   "id": "38628f32-72d9-4741-98b0-6f2fccb3e4e1",
   "metadata": {},
   "source": [
    "Use PyPDF2 to extract some useful attributes from these PDFs."
   ]
  },
  {
   "cell_type": "code",
   "execution_count": null,
   "id": "ea898bba-f8ad-4993-877d-9a64afdf687f",
   "metadata": {},
   "outputs": [],
   "source": [
    "pdf_att_dict_list = []  # instantiate empty list\n",
    "for url in wp_url_df['pdf_url']:\n",
    "    coin_feature_dict = {}\n",
    "    coin_feature_dict['pdf_url'] = url\n",
    "\n",
    "    with io.BytesIO(response.content) as f:\n",
    "        pdf = PdfReader(f)\n",
    "        \n",
    "        coin_feature_dict['number_pages'] = len(pdf.pages)\n",
    "        number_images = 0\n",
    "        number_words = 0\n",
    "        number_equations = 0\n",
    "    \n",
    "        for page in pdf.pages:\n",
    "            try:\n",
    "                number_images += len(page.images)\n",
    "            except:\n",
    "                number_images += 1\n",
    "            coin_feature_dict['number_images'] = number_images\n",
    "            coin_feature_dict['number_characters'] += len(page.extract_text())\n",
    "            coin_feature_dict['number_equations'] += page.extract_text().count(\"=\")\n",
    "\n",
    "    pdf_att_dict_list.append(coin_feature_dict)"
   ]
  },
  {
   "cell_type": "code",
   "execution_count": null,
   "id": "53cd82d9-32c9-4096-bbc9-a9161b4526b2",
   "metadata": {},
   "outputs": [],
   "source": [
    "# Make a dataframe with all pdf data\n",
    "pdf_att_dict_list = pd.DataFrame(pdf_att_dict_list)"
   ]
  },
  {
   "cell_type": "code",
   "execution_count": null,
   "id": "0adb7cef-b9a1-4825-a49c-fd752b7a6242",
   "metadata": {},
   "outputs": [],
   "source": [
    "# Combine with url df\n",
    "combined_wp_df = wp_url_df.merge(pdf_att_dict_list, how='inner', on='pdf_url')"
   ]
  },
  {
   "cell_type": "code",
   "execution_count": null,
   "id": "115f619b-f1f3-4939-815a-43498c37c463",
   "metadata": {},
   "outputs": [],
   "source": [
    "# CHECK FOR DUPLICATES!!!"
   ]
  },
  {
   "cell_type": "markdown",
   "id": "83f7ff16-a8e0-4d83-8648-774c61ca5fab",
   "metadata": {},
   "source": [
    "## Combined DataFrame"
   ]
  },
  {
   "cell_type": "code",
   "execution_count": null,
   "id": "8c5b1081-c816-4aae-b811-6553611f9f65",
   "metadata": {},
   "outputs": [],
   "source": [
    "# Create lower case column for join\n",
    "clean_combined_cap_df['name_lower'] = clean_combined_cap_df['name'].apply(lambda x: x.lower().replace(\" \", \"_\")"
   ]
  },
  {
   "cell_type": "code",
   "execution_count": null,
   "id": "ec3e7326-6b27-42e1-aefa-76f0b5920787",
   "metadata": {},
   "outputs": [],
   "source": [
    "# Join on lower case name\n",
    "combined_total_df = clean_combined_cap_df.merge(\n",
    "    right=clean_combined_pdf_df,\n",
    "    how='inner',\n",
    "    left_on='name_lower',\n",
    "    right_on='name'\n",
    ")"
   ]
  },
  {
   "cell_type": "code",
   "execution_count": null,
   "id": "596c4ad2-0c68-4cc9-a86c-2c3a0eb7bd0b",
   "metadata": {},
   "outputs": [],
   "source": [
    "# CHECKS!!!"
   ]
  },
  {
   "cell_type": "code",
   "execution_count": null,
   "id": "de7b77c8-d86d-48ac-9d9e-7d41fddc6849",
   "metadata": {},
   "outputs": [],
   "source": [
    "# Reformat final DF and save\n",
    "raw_df_to_save = combined_total_df[['']].rename()\n",
    "raw_df_to_save.to_csv("
   ]
  }
 ],
 "metadata": {
  "kernelspec": {
   "display_name": "Python 3 (ipykernel)",
   "language": "python",
   "name": "python3"
  },
  "language_info": {
   "codemirror_mode": {
    "name": "ipython",
    "version": 3
   },
   "file_extension": ".py",
   "mimetype": "text/x-python",
   "name": "python",
   "nbconvert_exporter": "python",
   "pygments_lexer": "ipython3",
   "version": "3.11.3"
  }
 },
 "nbformat": 4,
 "nbformat_minor": 5
}
