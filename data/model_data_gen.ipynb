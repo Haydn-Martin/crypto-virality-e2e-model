{
 "cells": [
  {
   "cell_type": "code",
   "execution_count": 1,
   "id": "f0016b81-01f6-4916-b920-aa63b191bda4",
   "metadata": {},
   "outputs": [],
   "source": [
    "import pandas as pd"
   ]
  },
  {
   "cell_type": "markdown",
   "id": "e3be48e7-02d1-496a-993c-da336121fdcd",
   "metadata": {},
   "source": [
    "### TODO\n",
    "\n",
    "1. Read raw dataset\n",
    "2. Make it prettier\n",
    "3. I am too lazy to experiment with feature tranformations\n",
    "4. Feature engineering (create equation_density, image_density and delete their parents)\n",
    "5. Save dataset ready for modelling"
   ]
  },
  {
   "cell_type": "code",
   "execution_count": 2,
   "id": "eaf5458d-7eba-4910-a8f7-a8553706ba5d",
   "metadata": {},
   "outputs": [],
   "source": [
    "# Read raw ds\n",
    "raw_data = pd.read_csv('raw_data_gen/raw_features.csv')"
   ]
  },
  {
   "cell_type": "code",
   "execution_count": 3,
   "id": "ce853312-7af1-47ad-92a7-6e68e77cc122",
   "metadata": {},
   "outputs": [
    {
     "data": {
      "text/html": [
       "<div>\n",
       "<style scoped>\n",
       "    .dataframe tbody tr th:only-of-type {\n",
       "        vertical-align: middle;\n",
       "    }\n",
       "\n",
       "    .dataframe tbody tr th {\n",
       "        vertical-align: top;\n",
       "    }\n",
       "\n",
       "    .dataframe thead th {\n",
       "        text-align: right;\n",
       "    }\n",
       "</style>\n",
       "<table border=\"1\" class=\"dataframe\">\n",
       "  <thead>\n",
       "    <tr style=\"text-align: right;\">\n",
       "      <th></th>\n",
       "      <th>Unnamed: 0</th>\n",
       "      <th>name_x</th>\n",
       "      <th>market_cap</th>\n",
       "      <th>number_pages</th>\n",
       "      <th>number_images</th>\n",
       "      <th>number_characters</th>\n",
       "      <th>number_equations</th>\n",
       "    </tr>\n",
       "  </thead>\n",
       "  <tbody>\n",
       "    <tr>\n",
       "      <th>0</th>\n",
       "      <td>0</td>\n",
       "      <td>Bitcoin</td>\n",
       "      <td>1206547874874</td>\n",
       "      <td>9</td>\n",
       "      <td>0</td>\n",
       "      <td>21807</td>\n",
       "      <td>80</td>\n",
       "    </tr>\n",
       "    <tr>\n",
       "      <th>1</th>\n",
       "      <td>1</td>\n",
       "      <td>Ethereum</td>\n",
       "      <td>320467809737</td>\n",
       "      <td>42</td>\n",
       "      <td>6</td>\n",
       "      <td>88334</td>\n",
       "      <td>22</td>\n",
       "    </tr>\n",
       "    <tr>\n",
       "      <th>2</th>\n",
       "      <td>2</td>\n",
       "      <td>Tether</td>\n",
       "      <td>115641341009</td>\n",
       "      <td>20</td>\n",
       "      <td>4</td>\n",
       "      <td>39064</td>\n",
       "      <td>8</td>\n",
       "    </tr>\n",
       "  </tbody>\n",
       "</table>\n",
       "</div>"
      ],
      "text/plain": [
       "   Unnamed: 0    name_x     market_cap  number_pages  number_images  \\\n",
       "0           0   Bitcoin  1206547874874             9              0   \n",
       "1           1  Ethereum   320467809737            42              6   \n",
       "2           2    Tether   115641341009            20              4   \n",
       "\n",
       "   number_characters  number_equations  \n",
       "0              21807                80  \n",
       "1              88334                22  \n",
       "2              39064                 8  "
      ]
     },
     "execution_count": 3,
     "metadata": {},
     "output_type": "execute_result"
    }
   ],
   "source": [
    "raw_data.head(3)"
   ]
  },
  {
   "cell_type": "code",
   "execution_count": 4,
   "id": "c8243746-1d80-4460-a186-c8b10f974a96",
   "metadata": {},
   "outputs": [],
   "source": [
    "# Clean it up a bit\n",
    "raw_data_clean = raw_data.drop('Unnamed: 0', axis=1).rename(columns={'name_x': 'name'})"
   ]
  },
  {
   "cell_type": "code",
   "execution_count": 5,
   "id": "62b5d54a-6114-45e0-91d6-0d49278fcc51",
   "metadata": {},
   "outputs": [],
   "source": [
    "# Copy df\n",
    "raw_data_new_ft = raw_data_clean.copy()\n",
    "# Add density features\n",
    "for data_type in ['images', 'characters', 'equations']:\n",
    "    raw_data_new_ft[f'{data_type}_density'] = raw_data_new_ft.apply(lambda row: row[f'number_{data_type}']/row['number_pages'], axis=1)\n",
    "# Drop parent features\n",
    "raw_data_new_ft = raw_data_new_ft.drop(['number_images', 'number_characters', 'number_equations'], axis=1)"
   ]
  },
  {
   "cell_type": "code",
   "execution_count": 6,
   "id": "e6d15712-7202-4e32-a7fa-f244c3065420",
   "metadata": {},
   "outputs": [],
   "source": [
    "# Save new df ready for modelling\n",
    "raw_data_new_ft.to_csv('ml_data_set.csv')"
   ]
  }
 ],
 "metadata": {
  "kernelspec": {
   "display_name": "Python 3 (ipykernel)",
   "language": "python",
   "name": "python3"
  },
  "language_info": {
   "codemirror_mode": {
    "name": "ipython",
    "version": 3
   },
   "file_extension": ".py",
   "mimetype": "text/x-python",
   "name": "python",
   "nbconvert_exporter": "python",
   "pygments_lexer": "ipython3",
   "version": "3.11.3"
  }
 },
 "nbformat": 4,
 "nbformat_minor": 5
}
