{
 "cells": [
  {
   "cell_type": "markdown",
   "id": "20b42dee-9780-47c5-a1f9-d68849bb3510",
   "metadata": {},
   "source": [
    "## Approach\n",
    "\n",
    "Extract features from whitepapers.\n",
    "\n",
    "No need for real understanding here (models can't do this yet), hence we don't need NLP really - just text extraction using OCR that we can then search for features.\n",
    "\n",
    "Features from whitepapers:\n",
    "\n",
    "1. Number of pages\n",
    "2. Number of words\n",
    "3. Number of equations (?)\n",
    "4. Number of images\n",
    "5. Number of references\n",
    "6. Acronym count: pow, pos, apy, roi\n",
    "7. Word count: leverage, price, attack, token"
   ]
  },
  {
   "cell_type": "markdown",
   "id": "74aece75-11dd-4d13-8c63-35952e29d392",
   "metadata": {},
   "source": [
    "## Experiments"
   ]
  },
  {
   "cell_type": "markdown",
   "id": "b666adcb-402d-4fd5-8135-b098435f67b8",
   "metadata": {},
   "source": [
    "### Nougat"
   ]
  },
  {
   "cell_type": "markdown",
   "id": "b236c464-c925-4a96-b077-e3e2a8ee8861",
   "metadata": {},
   "source": [
    "Ok yeah so this takes waaaay too long without a GPU. Not an option."
   ]
  },
  {
   "cell_type": "markdown",
   "id": "b2d4912a-3068-4f07-a2fc-0e07320531f0",
   "metadata": {
    "jp-MarkdownHeadingCollapsed": true
   },
   "source": [
    "### Document LLM"
   ]
  },
  {
   "cell_type": "markdown",
   "id": "d20185f3-7813-4420-a8e7-50622de3e905",
   "metadata": {},
   "source": [
    "Let's try a document understanding model from Hugging Face."
   ]
  },
  {
   "cell_type": "code",
   "execution_count": 2,
   "id": "05b7c52d-1b0e-49f4-95c9-dce1e7c307ed",
   "metadata": {},
   "outputs": [],
   "source": [
    "from transformers import pipeline"
   ]
  },
  {
   "cell_type": "code",
   "execution_count": 3,
   "id": "93be4389-318f-4c50-970a-31fdab5ed7d5",
   "metadata": {},
   "outputs": [
    {
     "data": {
      "application/vnd.jupyter.widget-view+json": {
       "model_id": "69516433f90e44f6b887585b4a1c21ab",
       "version_major": 2,
       "version_minor": 0
      },
      "text/plain": [
       "config.json:   0%|          | 0.00/789 [00:00<?, ?B/s]"
      ]
     },
     "metadata": {},
     "output_type": "display_data"
    },
    {
     "name": "stderr",
     "output_type": "stream",
     "text": [
      "C:\\Users\\haydn\\PycharmProjects\\crypto-virality-e2e-model\\venv\\Lib\\site-packages\\huggingface_hub\\file_download.py:157: UserWarning: `huggingface_hub` cache-system uses symlinks by default to efficiently store duplicated files but your machine does not support them in C:\\Users\\haydn\\.cache\\huggingface\\hub\\models--impira--layoutlm-document-qa. Caching files will still work but in a degraded version that might require more space on your disk. This warning can be disabled by setting the `HF_HUB_DISABLE_SYMLINKS_WARNING` environment variable. For more details, see https://huggingface.co/docs/huggingface_hub/how-to-cache#limitations.\n",
      "To support symlinks on Windows, you either need to activate Developer Mode or to run Python as an administrator. In order to see activate developer mode, see this article: https://docs.microsoft.com/en-us/windows/apps/get-started/enable-your-device-for-development\n",
      "  warnings.warn(message)\n"
     ]
    },
    {
     "data": {
      "application/vnd.jupyter.widget-view+json": {
       "model_id": "31e136ddebe546779359c7eb1160df01",
       "version_major": 2,
       "version_minor": 0
      },
      "text/plain": [
       "model.safetensors:   0%|          | 0.00/511M [00:00<?, ?B/s]"
      ]
     },
     "metadata": {},
     "output_type": "display_data"
    },
    {
     "data": {
      "application/vnd.jupyter.widget-view+json": {
       "model_id": "58a59d17e4254c888019442c8f03e981",
       "version_major": 2,
       "version_minor": 0
      },
      "text/plain": [
       "tokenizer_config.json:   0%|          | 0.00/315 [00:00<?, ?B/s]"
      ]
     },
     "metadata": {},
     "output_type": "display_data"
    },
    {
     "data": {
      "application/vnd.jupyter.widget-view+json": {
       "model_id": "caca82bf8c0e42bca858dda05ab08b81",
       "version_major": 2,
       "version_minor": 0
      },
      "text/plain": [
       "vocab.json:   0%|          | 0.00/798k [00:00<?, ?B/s]"
      ]
     },
     "metadata": {},
     "output_type": "display_data"
    },
    {
     "data": {
      "application/vnd.jupyter.widget-view+json": {
       "model_id": "2b2f4fd770814d28aec4084b863d8bae",
       "version_major": 2,
       "version_minor": 0
      },
      "text/plain": [
       "merges.txt:   0%|          | 0.00/456k [00:00<?, ?B/s]"
      ]
     },
     "metadata": {},
     "output_type": "display_data"
    },
    {
     "data": {
      "application/vnd.jupyter.widget-view+json": {
       "model_id": "d436228181be45b9b86d33822388b733",
       "version_major": 2,
       "version_minor": 0
      },
      "text/plain": [
       "tokenizer.json:   0%|          | 0.00/1.36M [00:00<?, ?B/s]"
      ]
     },
     "metadata": {},
     "output_type": "display_data"
    },
    {
     "data": {
      "application/vnd.jupyter.widget-view+json": {
       "model_id": "70702a1cfa5145f6a04014597c20c53e",
       "version_major": 2,
       "version_minor": 0
      },
      "text/plain": [
       "special_tokens_map.json:   0%|          | 0.00/239 [00:00<?, ?B/s]"
      ]
     },
     "metadata": {},
     "output_type": "display_data"
    }
   ],
   "source": [
    "nlp = pipeline(\n",
    "    \"document-question-answering\",\n",
    "    model=\"impira/layoutlm-document-qa\",\n",
    ")"
   ]
  },
  {
   "cell_type": "markdown",
   "id": "fc0c1d29-bc01-4500-90f7-7dff700e5e30",
   "metadata": {},
   "source": [
    "Basically need to use individual images and then agregate the outputs...which I can't be bothered to do."
   ]
  },
  {
   "cell_type": "markdown",
   "id": "78913c12-aaaa-40cd-98df-c63e428ea90b",
   "metadata": {},
   "source": [
    "### Element Extraction"
   ]
  },
  {
   "cell_type": "code",
   "execution_count": 7,
   "id": "f660ae21-92b1-48d8-8bea-56b1d90c5964",
   "metadata": {},
   "outputs": [],
   "source": [
    "from PyPDF2 import PdfReader  "
   ]
  },
  {
   "cell_type": "code",
   "execution_count": 33,
   "id": "6f9186c0-aa8e-456e-878b-878c9707c12c",
   "metadata": {},
   "outputs": [],
   "source": [
    "reader = PdfReader(\"whitepaper_examples/Bitcoin_BTC.pdf\")\n",
    "number_of_pages = len(reader.pages)\n",
    "page = reader.pages[8]\n",
    "text = page.extract_text()"
   ]
  },
  {
   "cell_type": "code",
   "execution_count": 51,
   "id": "7199ea37-244f-4773-b343-e573dcabf5fe",
   "metadata": {},
   "outputs": [
    {
     "data": {
      "text/plain": [
       "'%PDF-1.5'"
      ]
     },
     "execution_count": 51,
     "metadata": {},
     "output_type": "execute_result"
    }
   ],
   "source": [
    "reader.pdf_header"
   ]
  },
  {
   "cell_type": "code",
   "execution_count": 34,
   "id": "92288237-99cc-4702-a58a-ce3be28e62d0",
   "metadata": {},
   "outputs": [
    {
     "name": "stdout",
     "output_type": "stream",
     "text": [
      "References\n",
      "[1] W. Dai, \"b-money,\" http://www.weidai.com/bmoney.txt, 1998.\n",
      "[2] H. Massias, X.S. Avila, and J.-J. Quisquater, \"Design of a secure timest amping service with minimal \n",
      "trust requirements,\" In 20th Symposium on Information Theory in the Benelux , May 1999.\n",
      "[3] S. Haber, W.S. Stornetta, \"How to time-stamp a digital document,\" In  Journal of Cryptology , vol 3, no \n",
      "2, pages 99-111, 1991.\n",
      "[4] D. Bayer, S. Haber, W.S. Stornetta, \"Improving the efficiency and re liability of digital time-stamping,\" \n",
      "In Sequences II: Methods in Communication, Security and Computer Science , pages 329-334, 1993.\n",
      "[5] S. Haber, W.S. Stornetta, \"Secure names for bit-strings,\" In Proceedings of the 4th ACM Conference \n",
      "on Computer and Communications Security , pages 28-35, April 1997.\n",
      "[6] A. Back, \"Hashcash - a denial of service counter-measure,\" \n",
      "http://www.hashcash.org/papers/hashcash.pdf, 2002.\n",
      "[7] R.C. Merkle, \"Protocols for public key cryptosystems,\" In Proc. 1980 Symposium on Security and \n",
      "Privacy , IEEE Computer Society, pages 122-133, April 1980.\n",
      "[8] W. Feller, \"An introduction to probability theory and its applications,\" 1957.\n",
      "9\n"
     ]
    }
   ],
   "source": [
    "print(text)"
   ]
  },
  {
   "cell_type": "code",
   "execution_count": 25,
   "id": "eab105d4-867f-4ff0-b5f2-beb2c58847c0",
   "metadata": {},
   "outputs": [
    {
     "data": {
      "text/plain": [
       "9"
      ]
     },
     "execution_count": 25,
     "metadata": {},
     "output_type": "execute_result"
    }
   ],
   "source": [
    "number_of_pages"
   ]
  },
  {
   "cell_type": "code",
   "execution_count": 29,
   "id": "61fc9211-1a8a-48dc-8fe9-bb06c8db6552",
   "metadata": {},
   "outputs": [],
   "source": [
    "reader = PdfReader(\"whitepaper_examples/Binance_BNB.pdf\")\n",
    "number_of_pages = len(reader.pages)\n",
    "page = reader.pages[5]\n",
    "text = page.extract_text()"
   ]
  },
  {
   "cell_type": "code",
   "execution_count": 31,
   "id": "301ecd33-3d14-4c0c-90dd-ed5bfa91145a",
   "metadata": {},
   "outputs": [
    {
     "data": {
      "text/plain": [
       "3"
      ]
     },
     "execution_count": 31,
     "metadata": {},
     "output_type": "execute_result"
    }
   ],
   "source": [
    "len(page.images)"
   ]
  },
  {
   "cell_type": "markdown",
   "id": "c347bf4b-55d0-448e-bd06-a36ffc8ddd29",
   "metadata": {},
   "source": [
    "### How to get features\n",
    "\n",
    "1. Number of pages --> `len(reader.pages)`\n",
    "2. Number of words --> separate text by spaces, sum\n",
    "3. Number of equations --> count \"=\"\n",
    "4. Number of images --> `len(page.images)`\n",
    "5. Number of references --> search for \"References\" as the first element of the page, count refs below\n",
    "6. Acronym count: pow, pos, apy, roi --> search in page text\n",
    "7. Word count: leverage, price, attack, token --> search in page text"
   ]
  },
  {
   "cell_type": "markdown",
   "id": "74f9c5fc-15e6-405a-ac3d-26e6cc54c345",
   "metadata": {},
   "source": [
    "## Accessing white papers"
   ]
  },
  {
   "cell_type": "code",
   "execution_count": 30,
   "id": "b07a7865-a0e7-490d-a0ef-ee6cb66428f3",
   "metadata": {},
   "outputs": [],
   "source": [
    "import requests\n",
    "import io\n",
    "from bs4 import BeautifulSoup as bts"
   ]
  },
  {
   "cell_type": "code",
   "execution_count": 64,
   "id": "a4e15cc4-fd71-4ed5-b1ce-7a07020ad1fe",
   "metadata": {},
   "outputs": [],
   "source": [
    "url = 'https://whitepaper.io/document/718/ethereum-whitepaper'\n",
    "result = requests.get(url, headers={\"User-Agent\":\"Mozilla/5.0\"})\n",
    "soup = bts(result.text, 'html.parser')"
   ]
  },
  {
   "cell_type": "code",
   "execution_count": 65,
   "id": "a10312df-d666-4d28-b5d1-c58256916bd7",
   "metadata": {},
   "outputs": [
    {
     "data": {
      "text/plain": [
       "<!DOCTYPE html>\n",
       "<html lang=\"en\"><head><link href=\"https://fonts.googleapis.com\" rel=\"preconnect\"/><link crossorigin=\"true\" href=\"https://fonts.gstatic.com\" rel=\"preconnect\"/><link data-href=\"https://fonts.googleapis.com/css2?family=Noto+Sans:ital,wght@0,100;0,200;0,300;0,400;0,500;0,600;0,700;0,800;0,900;1,100;1,200;1,300;1,400;1,500;1,600;1,700;1,800;1,900&amp;family=Oxygen:wght@300;400;700&amp;family=Ubuntu:ital,wght@0,300;0,400;0,500;0,700;1,300;1,400;1,500;1,700&amp;display=swap\" rel=\"stylesheet\"/><link href=\"/favicon.png\" rel=\"icon\" type=\"image/png\"/><script async=\"\" src=\"https://www.googletagmanager.com/gtag/js?id=UA-118779431-1\"></script><script>\n",
       "            window.dataLayer = window.dataLayer || [];\n",
       "            function gtag(){dataLayer.push(arguments);}\n",
       "            gtag('js', new Date());\n",
       "            gtag('config', 'UA-118779431-1', {\n",
       "              page_path: window.location.pathname,\n",
       "            });\n",
       "          </script><script async=\"\" data-ad-client=\"ca-pub-5413472148787934\" src=\"https://pagead2.googlesyndication.com/pagead/js/adsbygoogle.js\"></script><meta content=\"width=device-width\" name=\"viewport\"/><meta charset=\"utf-8\"/><title>Ethereum ETH whitepapers - whitepaper.io</title><meta content=\"index,follow\" name=\"robots\"/><meta content=\"index,follow\" name=\"googlebot\"/><meta content=\"View and download Ethereum ETH whitepapers and other documents on whitepaper.io. We are building the largest online library of cryptocurrency documents.\" name=\"description\"/><meta content=\"6\" name=\"next-head-count\"/><link as=\"style\" href=\"/_next/static/css/436867d03cb19de919ae.css\" rel=\"preload\"/><link data-n-g=\"\" href=\"/_next/static/css/436867d03cb19de919ae.css\" rel=\"stylesheet\"/><noscript data-n-css=\"\"></noscript><link as=\"script\" href=\"/_next/static/chunks/webpack-afcbce846638ae937fa8.js\" rel=\"preload\"/><link as=\"script\" href=\"/_next/static/chunks/framework-1878b87d33b06d06b17b.js\" rel=\"preload\"/><link as=\"script\" href=\"/_next/static/chunks/597-97996ab244cdfaec2616.js\" rel=\"preload\"/><link as=\"script\" href=\"/_next/static/chunks/main-188b34e59ae31a7155aa.js\" rel=\"preload\"/><link as=\"script\" href=\"/_next/static/chunks/947-42fdefd46660a3973e60.js\" rel=\"preload\"/><link as=\"script\" href=\"/_next/static/chunks/pages/_app-a3a4eb62b8043be44914.js\" rel=\"preload\"/><link as=\"script\" href=\"/_next/static/chunks/cb1608f2-09af1189c3e4bb018f83.js\" rel=\"preload\"/><link as=\"script\" href=\"/_next/static/chunks/743-5d4c3dbce7c20043a019.js\" rel=\"preload\"/><link as=\"script\" href=\"/_next/static/chunks/962-4d8f69726b2c20088d74.js\" rel=\"preload\"/><link as=\"script\" href=\"/_next/static/chunks/494-d2bbb82cd0d7b8abcc59.js\" rel=\"preload\"/><link as=\"script\" href=\"/_next/static/chunks/822-fab127da544fe6998a4b.js\" rel=\"preload\"/><link as=\"script\" href=\"/_next/static/chunks/pages/document/%5Bid%5D/%5Bwhitepaper%5D-752eb2e3c9d6917205d7.js\" rel=\"preload\"/><link href=\"https://fonts.googleapis.com/css2?family=Noto+Sans:ital,wght@0,100;0,200;0,300;0,400;0,500;0,600;0,700;0,800;0,900;1,100;1,200;1,300;1,400;1,500;1,600;1,700;1,800;1,900&amp;family=Oxygen:wght@300;400;700&amp;family=Ubuntu:ital,wght@0,300;0,400;0,500;0,700;1,300;1,400;1,500;1,700&amp;display=swap\" rel=\"stylesheet\"/></head><body><div id=\"__next\"><div class=\"min-h-screen\" id=\"layout\"><div><div class=\"z-10 header-bar shadow-md bg-white mb-1\" id=\"header\"><div class=\"max-w-screen-2xl text-black-200 mx-auto flex justify-between h-14 lg:h-21 items-center px-4 md:px-8 lg:px-12\"><div class=\"flex items-center space-x-15 w-full\"><a class=\"flex items-center cursor-pointer\"><img class=\"mr-4\" src=\"/images/Logo.svg\"/><div class=\"text-lg font-bold logo-text\">Whitepaper.io</div></a><div class=\"hidden w-full lg:block md:pl-10\"><form><div class=\"relative text-gray-350 focus-within:text-gray-400\"><span class=\"absolute inset-y-0 left-0 flex items-center pl-4 round\"><button class=\"focus:outline-none focus:shadow-outline\" type=\"submit\"><svg class=\"w-4 h-4\" fill=\"none\" stroke=\"currentColor\" stroke-linecap=\"round\" stroke-linejoin=\"round\" stroke-width=\"2\" viewbox=\"0 0 24 24\"><path d=\"M21 21l-6-6m2-5a7 7 0 11-14 0 7 7 0 0114 0z\"></path></svg></button></span><input autocomplete=\"off\" class=\"w-[300px] font-open-sans h-11-50 py-2 text-sm pl-10 focus:outline-none focus:bg-white focus:text-gray-900 rounded-3xl md:border px-3 placeholder-gray-350\" name=\"q\" placeholder=\"Search crypto name\" type=\"search\" value=\"\"/></div></form></div></div><div class=\"lg:hidden\"><button class=\"border-none outline-0 focus:outline-none\"><img src=\"/images/icons/menu.png\"/></button></div><div class=\"hidden lg:flex items-center space-x-8\"><div class=\"hidden md:flex items-center md:justify-end md:w-[800px]\"><style>@keyframes spin{to{transform:rotate(360deg)}}.tf-v1-popup{position:fixed;top:0;left:0;width:100%;height:100%;background:rgba(0,0,0,0.75);transition:opacity 0.25s ease-in-out;z-index:10001;display:flex;align-items:center;justify-content:center}.tf-v1-popup .tf-v1-iframe-wrapper{position:relative;transition:opacity 0.25s ease-in-out;min-width:360px;min-height:360px}.tf-v1-popup .tf-v1-iframe-wrapper iframe{width:100%;height:100%;border:none;overflow:hidden;border-radius:8px}.tf-v1-popup .tf-v1-close{position:absolute;font-size:32px;line-height:24px;width:24px;height:24px;text-align:center;cursor:pointer;opacity:0.75;transition:opacity 0.25s ease-in-out;text-decoration:none;color:#000;top:-34px;right:0}.tf-v1-popup .tf-v1-close:hover{opacity:1}@media (min-width: 481px){.tf-v1-popup .tf-v1-close{color:#fff !important}}.tf-v1-popup .tf-v1-spinner{border:3px solid #aaa;font-size:40px;width:1em;height:1em;border-radius:0.5em;box-sizing:border-box;animation:spin 1s linear infinite;border-top-color:#fff;position:absolute;top:50%;left:50%;margin:-20px 0 0 -20px}@media (max-width: 480px){.tf-v1-popup{width:100% !important;height:100% !important;width:100vw !important;height:100vh !important;max-height:stretch}.tf-v1-popup .tf-v1-iframe-wrapper{position:relative;transition:opacity 0.25s ease-in-out;min-width:100%;min-height:100%}.tf-v1-popup .tf-v1-iframe-wrapper iframe{border-radius:0}.tf-v1-popup .tf-v1-close{position:absolute;font-size:32px;line-height:24px;width:24px;height:24px;text-align:center;cursor:pointer;opacity:0.75;transition:opacity 0.25s ease-in-out;text-decoration:none;color:#000;top:6px;right:8px}.tf-v1-popup .tf-v1-close:hover{opacity:1}}@media (max-width: 480px) and (min-width: 481px){.tf-v1-popup .tf-v1-close{color:#fff !important}}\n",
       "</style><button class=\"font-semibold cursor-pointer focus-within:outline-none outline-none ml-[45px] inline-block w-[148px] font-oxygen text-sm\" data-testid=\"tf-v1-popup\">Submit Whitepaper</button></div></div></div></div></div><div class=\"bg-white-150 flex flex-col\"><div class=\"flex w-full h-full\" id=\"pdf-view\"><div class=\"side-panel flex flex-col hidden md:flex\"><div class=\"flex gap-3 py-2 px-5 bg-white items-center\"><div class=\"text-[12px] font-normal\">Whitepaper</div><div class=\"text-[10px] font-normal\"><svg aria-hidden=\"true\" class=\"svg-inline--fa fa-chevron-right fa-w-10\" data-icon=\"chevron-right\" data-prefix=\"fas\" focusable=\"false\" role=\"img\" viewbox=\"0 0 320 512\" xmlns=\"http://www.w3.org/2000/svg\"><path d=\"M285.476 272.971L91.132 467.314c-9.373 9.373-24.569 9.373-33.941 0l-22.667-22.667c-9.357-9.357-9.375-24.522-.04-33.901L188.505 256 34.484 101.255c-9.335-9.379-9.317-24.544.04-33.901l22.667-22.667c9.373-9.373 24.569-9.373 33.941 0L285.475 239.03c9.373 9.372 9.373 24.568.001 33.941z\" fill=\"currentColor\"></path></svg></div><div class=\"text-[12px] font-normal\">Ethereum</div></div><h1 class=\"text-2xl font-bold pt-6\">Ethereum<!-- --> <!-- -->Whitepaper</h1><div class=\"text-[16px] font-normal text-[#2F3135] pt-2\">Ethereum is an open-source, public, blockchain-based distributed computing platform and operating system featuring smart contract functionality. It supports a modified version of Nakamoto consensus via transaction based state transitions.</div><div class=\"flex items-center gap-2 text-[13px] font-bold text-[#2F3135] pt-8 cursor-pointer\"><svg aria-hidden=\"true\" class=\"svg-inline--fa fa-copy fa-w-14\" data-icon=\"copy\" data-prefix=\"far\" focusable=\"false\" role=\"img\" viewbox=\"0 0 448 512\" xmlns=\"http://www.w3.org/2000/svg\"><path d=\"M433.941 65.941l-51.882-51.882A48 48 0 0 0 348.118 0H176c-26.51 0-48 21.49-48 48v48H48c-26.51 0-48 21.49-48 48v320c0 26.51 21.49 48 48 48h224c26.51 0 48-21.49 48-48v-48h80c26.51 0 48-21.49 48-48V99.882a48 48 0 0 0-14.059-33.941zM266 464H54a6 6 0 0 1-6-6V150a6 6 0 0 1 6-6h74v224c0 26.51 21.49 48 48 48h96v42a6 6 0 0 1-6 6zm128-96H182a6 6 0 0 1-6-6V54a6 6 0 0 1 6-6h106v88c0 13.255 10.745 24 24 24h88v202a6 6 0 0 1-6 6zm6-256h-64V48h9.632c1.591 0 3.117.632 4.243 1.757l48.368 48.368a6 6 0 0 1 1.757 4.243V112z\" fill=\"currentColor\"></path></svg>Copy Link</div><div class=\"mt-10 rounded-[10px] bg-lg-green border-[1px] border-[#EEEEF0] p-4 flex justify-center items-center flex-col\"><div class=\"flex justify-center bg-[#F1F4FD] items-center w-full rounded-[4px] h-[67px]\"><p class=\"pr-[12px] font-bold\">$1400.13</p><div class=\"flex justify-center items-center\"><div class=\"mx-2 text-green-700 h-full flex justify-center items-center text-[25px] mt-[15px]\"><svg aria-hidden=\"true\" class=\"svg-inline--fa fa-sort-up fa-w-10\" data-icon=\"sort-up\" data-prefix=\"fas\" focusable=\"false\" role=\"img\" viewbox=\"0 0 320 512\" xmlns=\"http://www.w3.org/2000/svg\"><path d=\"M279 224H41c-21.4 0-32.1-25.9-17-41L143 64c9.4-9.4 24.6-9.4 33.9 0l119 119c15.2 15.1 4.5 41-16.9 41z\" fill=\"currentColor\"></path></svg></div><div class=\"text-green-700\">4.83<!-- --> <!-- -->%</div></div></div><button class=\"bg-[#3F64F2] py-[13px] rounded-[50px] text-[#fff] w-full mt-3\">Trade Ethereum</button></div><div class=\"flex flex-col w-full p-4 mb-10 border border-gray-200 bg-lg-green md:border-transparent mt-4 rounded-[10px]\"><div class=\"flex gap-[6px] justify-center align-center\"><img alt=\"\" class=\"w-[30px] rounded-[30px] m-2\" src=\"https://res.cloudinary.com/dp2uu228v/image/upload/w_100,h_100,c_fill,dpr_2.0,f_auto/kjukxt2qgkmvahdcxaga\"/><div class=\"text-[16px] font-bold flex-1 flex items-center\">Ethereum</div></div><a class=\"bg-[#F8FAFD] p-3 rounded-[12px] text-[#3F64F2] w-full mt-[6px] text-[15px] font-bold cursor-pointer\" href=\"/coin/ethereum\">Return</a></div></div><div class=\"flex flex-col flex-1\"><object aria-label=\"Ethereum Whitepaper\" data=\"https://api-new.whitepaper.io/documents/pdf?id=H1ugBX9Bd\" height=\"100%\" width=\"100%\"></object></div></div></div><div><div class=\"pt-8 md:pt-12 font-oxygen\" id=\"footer\"><div class=\"max-w-screen-2xl mx-auto px-0 md:px-8 lg:px-12 pb-8 md:pb-12 lg:pb-20\"><div class=\"grid grid-cols-12 lg:grid-cols-12 gap-4 md:gap-8 px-4 md:px-0\"><div class=\"col-span-12 md:col-span-3 lg:col-span-6\"><div class=\"font-red-hat text-xl lg:text-2xl font-bold mb-3\">Whitepaper.io</div><div class=\"font-oxygen\">The leading database of cryptocurrency whitepapers</div><div class=\"\"><div class=\"font-semibold mt-10\">For exclusive Crypto News &amp; updates</div><a class=\"flex py-5 space-x-3\" href=\"https://twitter.com/whitepaper_io\"><img class=\"w-8 h-8 md:w-10 md:h-10\" src=\"/images/Twitter.png\"/><div class=\"font-semibold bg-gray-A100 py-2 px-6 rounded-12.5\">Follow on Twitter</div></a></div></div><div class=\"col-span-12 md:col-span-9 md:flex-row md:justify-end lg:col-span-6 flex flex-col\"><div class=\"flex flex-col\"><div class=\"flex items-center md:font-bold text-lg\"><img class=\"mr-2 md:hidden\" src=\"/images/icons/plus.png\"/><div class=\"\">Get In Touch</div></div><div class=\"block md:block mt-4 mb-[25px]\"><div class=\"flex space-x-3\"><div class=\"mb-5\">Email:</div><a href=\"/cdn-cgi/l/email-protection#08696b6b677d667c7b487f60617c6d7869786d7a266167\"> <span class=\"__cf_email__\" data-cfemail=\"badbd9d9d5cfd4cec9facdd2d3cedfcadbcadfc894d3d5\">[email protected]</span> </a></div><div class=\"flex space-x-3\"><a href=\"/services\"> Create Whitepaper </a></div></div><style>@keyframes spin{to{transform:rotate(360deg)}}.tf-v1-popup{position:fixed;top:0;left:0;width:100%;height:100%;background:rgba(0,0,0,0.75);transition:opacity 0.25s ease-in-out;z-index:10001;display:flex;align-items:center;justify-content:center}.tf-v1-popup .tf-v1-iframe-wrapper{position:relative;transition:opacity 0.25s ease-in-out;min-width:360px;min-height:360px}.tf-v1-popup .tf-v1-iframe-wrapper iframe{width:100%;height:100%;border:none;overflow:hidden;border-radius:8px}.tf-v1-popup .tf-v1-close{position:absolute;font-size:32px;line-height:24px;width:24px;height:24px;text-align:center;cursor:pointer;opacity:0.75;transition:opacity 0.25s ease-in-out;text-decoration:none;color:#000;top:-34px;right:0}.tf-v1-popup .tf-v1-close:hover{opacity:1}@media (min-width: 481px){.tf-v1-popup .tf-v1-close{color:#fff !important}}.tf-v1-popup .tf-v1-spinner{border:3px solid #aaa;font-size:40px;width:1em;height:1em;border-radius:0.5em;box-sizing:border-box;animation:spin 1s linear infinite;border-top-color:#fff;position:absolute;top:50%;left:50%;margin:-20px 0 0 -20px}@media (max-width: 480px){.tf-v1-popup{width:100% !important;height:100% !important;width:100vw !important;height:100vh !important;max-height:stretch}.tf-v1-popup .tf-v1-iframe-wrapper{position:relative;transition:opacity 0.25s ease-in-out;min-width:100%;min-height:100%}.tf-v1-popup .tf-v1-iframe-wrapper iframe{border-radius:0}.tf-v1-popup .tf-v1-close{position:absolute;font-size:32px;line-height:24px;width:24px;height:24px;text-align:center;cursor:pointer;opacity:0.75;transition:opacity 0.25s ease-in-out;text-decoration:none;color:#000;top:6px;right:8px}.tf-v1-popup .tf-v1-close:hover{opacity:1}}@media (max-width: 480px) and (min-width: 481px){.tf-v1-popup .tf-v1-close{color:#fff !important}}\n",
       "</style><button class=\"text-left inline cursor-pointer focus-within:outline-none outline-none rounded-3xl text-blue-400 h-10 inline-block items-star font-semibold submit\" data-testid=\"tf-v1-popup\" style=\"font-size:15px;min-height:57px\"><button class=\"px-10 py-2.5 md:py-3-05 text-white text-lg rounded-12.5 w-60 bg-blue-400 hover:bg-opacity-80\">Submit Whitepaper</button></button></div></div><div></div></div></div><div class=\"bg-black-200\"><div class=\"max-w-screen-2xl mx-auto px-4 md:px-8 lg:px-12\"><div class=\"flex flex-col md:space-y-0 md:flex-row md:space-x-6 lg:space-x-12 text-white py-6 md:py-4 flex-wrap\"><div class=\"hidden md:block\">Copyright 2017 - 2022 Whitepaper.io</div><a class=\"cursor-pointer\" href=\"/privacy-policy\">Privacy Policy</a></div></div></div><div class=\"bg-black-900 text-white px-4 md:hidden py-2 h-11 text-ss md:text-sm flex items-center\">Copyright 2017 - 2022 Whitepaper.io</div></div></div></div></div><script data-cfasync=\"false\" src=\"/cdn-cgi/scripts/5c5dd728/cloudflare-static/email-decode.min.js\"></script><script id=\"__NEXT_DATA__\" type=\"application/json\">{\"props\":{\"pageProps\":{\"SEO\":{\"title\":\"Ethereum ETH whitepapers - whitepaper.io\",\"description\":\"View and download Ethereum ETH whitepapers and other documents on whitepaper.io. We are building the largest online library of cryptocurrency documents.\"},\"coin\":{\"_id\":\"5aeadada080b3a000d78936c\",\"slug\":\"ethereum\",\"name\":\"Ethereum\",\"code\":\"ETH\",\"description\":\"Ethereum is an open-source, public, blockchain-based distributed computing platform and operating system featuring smart contract functionality. It supports a modified version of Nakamoto consensus via transaction based state transitions.\",\"types\":[{\"name\":\"whitepaper\",\"documents\":{\"en\":[5,718]},\"_id\":\"5aeadb2f2b8a694ec5a0e6db\"}],\"languages\":[\"en\"],\"tags\":[],\"banner\":{\"value\":\"gx5jrytz5ur9920cjgga\",\"type\":\"upload\"},\"logo\":{\"value\":\"kjukxt2qgkmvahdcxaga\",\"type\":\"upload\"},\"createdAt\":\"2018-05-03T09:48:10.002Z\",\"__v\":4,\"coinpaprikaId\":\"eth-ethereum\",\"links\":null,\"circulating_supply\":122373866.2178,\"max_supply\":null,\"price\":1400.1328687960397,\"rank\":2,\"total_supply\":122373866.2178,\"trending\":true,\"categories\":[\"6081a2ecd430e857e5789d44\"],\"percent_change_24h\":4.8270733,\"percentChange24h\":\"-10.91201397\",\"updatedAt\":\"2023-01-12T10:36:32.969Z\",\"market_cap\":171339672373.1911,\"published_date\":\"2015-08-07T00:00:00.000Z\"},\"documents\":{\"error\":{},\"pdfInfo\":{\"title\":\"Ethereum Whitepaper | ethereum.org\",\"creator\":\"Firefox\",\"producer\":\"macOS Versie 10.16 (build 20D74) Quartz PDFContext\",\"creationDate\":\"2001-04-06T19:10:38.000Z\",\"modDate\":\"2001-04-06T19:10:38.000Z\",\"tagged\":\"no\",\"userProperties\":\"no\",\"pages\":42,\"encrypted\":\"no\",\"pageSize\":\"612 x 792 pts (letter)\",\"fileSize\":721367,\"optimized\":\"no\",\"pdfVersion\":\"1.3\"},\"_id\":718,\"languages\":{\"en\":{}},\"authors\":[],\"TOC\":[],\"pages\":[{\"origHeight\":\"1053.36px\",\"origWidth\":\"813.96px\",\"pageNr\":1,\"hash\":\"c63b4ce2bd\"},{\"origHeight\":\"1053.36px\",\"origWidth\":\"813.96px\",\"pageNr\":2,\"hash\":\"b2ee8c5e0d\"},{\"origHeight\":\"1053.36px\",\"origWidth\":\"813.96px\",\"pageNr\":3,\"hash\":\"33260d3303\"},{\"origHeight\":\"1053.36px\",\"origWidth\":\"813.96px\",\"pageNr\":4,\"hash\":\"efa53c3088\"},{\"origHeight\":\"1053.36px\",\"origWidth\":\"813.96px\",\"pageNr\":5,\"hash\":\"08da28cbc8\"},{\"origHeight\":\"1053.36px\",\"origWidth\":\"813.96px\",\"pageNr\":6,\"hash\":\"f4a8d302e8\"},{\"origHeight\":\"1053.36px\",\"origWidth\":\"813.96px\",\"pageNr\":7,\"hash\":\"53527aa038\"},{\"origHeight\":\"1053.36px\",\"origWidth\":\"813.96px\",\"pageNr\":8,\"hash\":\"2d43cd0fcf\"},{\"origHeight\":\"1053.36px\",\"origWidth\":\"813.96px\",\"pageNr\":9,\"hash\":\"48fdf5bc19\"},{\"origHeight\":\"1053.36px\",\"origWidth\":\"813.96px\",\"pageNr\":10,\"hash\":\"2118d6b867\"},{\"origHeight\":\"1053.36px\",\"origWidth\":\"813.96px\",\"pageNr\":11,\"hash\":\"3a56f1e702\"},{\"origHeight\":\"1053.36px\",\"origWidth\":\"813.96px\",\"pageNr\":12,\"hash\":\"b99199f50e\"},{\"origHeight\":\"1053.36px\",\"origWidth\":\"813.96px\",\"pageNr\":13,\"hash\":\"576a233710\"},{\"origHeight\":\"1053.36px\",\"origWidth\":\"813.96px\",\"pageNr\":14,\"hash\":\"64e8252097\"},{\"origHeight\":\"1053.36px\",\"origWidth\":\"813.96px\",\"pageNr\":15,\"hash\":\"0aa53174ee\"},{\"origHeight\":\"1053.36px\",\"origWidth\":\"813.96px\",\"pageNr\":16,\"hash\":\"e05404bccd\"},{\"origHeight\":\"1053.36px\",\"origWidth\":\"813.96px\",\"pageNr\":17,\"hash\":\"be60998d24\"},{\"origHeight\":\"1053.36px\",\"origWidth\":\"813.96px\",\"pageNr\":18,\"hash\":\"e6a6829315\"},{\"origHeight\":\"1053.36px\",\"origWidth\":\"813.96px\",\"pageNr\":19,\"hash\":\"a7c0ea64f2\"},{\"origHeight\":\"1053.36px\",\"origWidth\":\"813.96px\",\"pageNr\":20,\"hash\":\"2eb014a07f\"},{\"origHeight\":\"1053.36px\",\"origWidth\":\"813.96px\",\"pageNr\":21,\"hash\":\"4a4d2d9bb4\"},{\"origHeight\":\"1053.36px\",\"origWidth\":\"813.96px\",\"pageNr\":22,\"hash\":\"55c8e34344\"},{\"origHeight\":\"1053.36px\",\"origWidth\":\"813.96px\",\"pageNr\":23,\"hash\":\"27ec1dc063\"},{\"origHeight\":\"1053.36px\",\"origWidth\":\"813.96px\",\"pageNr\":24,\"hash\":\"685fd6d5b8\"},{\"origHeight\":\"1053.36px\",\"origWidth\":\"813.96px\",\"pageNr\":25,\"hash\":\"ed6f4bf27e\"},{\"origHeight\":\"1053.36px\",\"origWidth\":\"813.96px\",\"pageNr\":26,\"hash\":\"87cc01abac\"},{\"origHeight\":\"1053.36px\",\"origWidth\":\"813.96px\",\"pageNr\":27,\"hash\":\"ba5890f5f8\"},{\"origHeight\":\"1053.36px\",\"origWidth\":\"813.96px\",\"pageNr\":28,\"hash\":\"a4a9a3ecd6\"},{\"origHeight\":\"1053.36px\",\"origWidth\":\"813.96px\",\"pageNr\":29,\"hash\":\"3353322806\"},{\"origHeight\":\"1053.36px\",\"origWidth\":\"813.96px\",\"pageNr\":30,\"hash\":\"3c7ea9b5b3\"},{\"origHeight\":\"1053.36px\",\"origWidth\":\"813.96px\",\"pageNr\":31,\"hash\":\"1df93d7a6e\"},{\"origHeight\":\"1053.36px\",\"origWidth\":\"813.96px\",\"pageNr\":32,\"hash\":\"9f58c23db0\"},{\"origHeight\":\"1053.36px\",\"origWidth\":\"813.96px\",\"pageNr\":33,\"hash\":\"ce43702bc4\"},{\"origHeight\":\"1053.36px\",\"origWidth\":\"813.96px\",\"pageNr\":34,\"hash\":\"88d72a7061\"},{\"origHeight\":\"1053.36px\",\"origWidth\":\"813.96px\",\"pageNr\":35,\"hash\":\"4c31c3759f\"},{\"origHeight\":\"1053.36px\",\"origWidth\":\"813.96px\",\"pageNr\":36,\"hash\":\"efb29a1e86\"},{\"origHeight\":\"1053.36px\",\"origWidth\":\"813.96px\",\"pageNr\":37,\"hash\":\"c98c2e7649\"},{\"origHeight\":\"1053.36px\",\"origWidth\":\"813.96px\",\"pageNr\":38,\"hash\":\"10282a6f9d\"},{\"origHeight\":\"1053.36px\",\"origWidth\":\"813.96px\",\"pageNr\":39,\"hash\":\"f540c66c02\"},{\"origHeight\":\"1053.36px\",\"origWidth\":\"813.96px\",\"pageNr\":40,\"hash\":\"5111360a0e\"},{\"origHeight\":\"1053.36px\",\"origWidth\":\"813.96px\",\"pageNr\":41,\"hash\":\"279de4b53e\"},{\"origHeight\":\"1053.36px\",\"origWidth\":\"813.96px\",\"pageNr\":42,\"hash\":\"6dcad0d75e\"}],\"key\":\"H1ugBX9Bd\",\"createdAt\":\"2021-04-06T18:14:08.087Z\",\"source\":\"https://filebin.net/4tfws9jhdzkunuy0/Ethereum_Whitepaper___ethereum.org_-_test_2.pdf?t=fmf8qhyj\",\"description\":null,\"title\":\"Ethereum: A Next-Generation Smart Contract and Decentralized Application Platform (Februari 9, 2021)\",\"coin\":\"5aeadada080b3a000d78936c\",\"version\":\"Februari 9, 2021\",\"type\":\"Whitepaper\",\"typeSlug\":\"whitepaper\",\"__v\":1,\"checkSum\":\"4bc564b511681187bc500e8f51ad2aba\",\"completedAt\":\"2021-04-06T18:15:15.597Z\",\"processedAt\":\"2021-04-06T18:15:15.596Z\",\"id\":\"718\"}},\"__N_SSP\":true},\"page\":\"/document/[id]/[whitepaper]\",\"query\":{\"id\":\"718\",\"whitepaper\":\"ethereum-whitepaper\"},\"buildId\":\"dWai6Uqcw7HzEgTL9R7me\",\"isFallback\":false,\"gssp\":true}</script><script nomodule=\"\" src=\"/_next/static/chunks/polyfills-8683bd742a84c1edd48c.js\"></script><script async=\"\" src=\"/_next/static/chunks/webpack-afcbce846638ae937fa8.js\"></script><script async=\"\" src=\"/_next/static/chunks/framework-1878b87d33b06d06b17b.js\"></script><script async=\"\" src=\"/_next/static/chunks/597-97996ab244cdfaec2616.js\"></script><script async=\"\" src=\"/_next/static/chunks/main-188b34e59ae31a7155aa.js\"></script><script async=\"\" src=\"/_next/static/chunks/947-42fdefd46660a3973e60.js\"></script><script async=\"\" src=\"/_next/static/chunks/pages/_app-a3a4eb62b8043be44914.js\"></script><script async=\"\" src=\"/_next/static/chunks/cb1608f2-09af1189c3e4bb018f83.js\"></script><script async=\"\" src=\"/_next/static/chunks/743-5d4c3dbce7c20043a019.js\"></script><script async=\"\" src=\"/_next/static/chunks/962-4d8f69726b2c20088d74.js\"></script><script async=\"\" src=\"/_next/static/chunks/494-d2bbb82cd0d7b8abcc59.js\"></script><script async=\"\" src=\"/_next/static/chunks/822-fab127da544fe6998a4b.js\"></script><script async=\"\" src=\"/_next/static/chunks/pages/document/%5Bid%5D/%5Bwhitepaper%5D-752eb2e3c9d6917205d7.js\"></script><script async=\"\" src=\"/_next/static/dWai6Uqcw7HzEgTL9R7me/_buildManifest.js\"></script><script async=\"\" src=\"/_next/static/dWai6Uqcw7HzEgTL9R7me/_ssgManifest.js\"></script><script>\n",
       "              (function(d,u,ac){var s=d.createElement('script');s.type='text/javascript';s.src='https://a.omappapi.com/app/js/api.min.js';s.async=true;s.dataset.user=u;s.dataset.account=ac;d.getElementsByTagName('head')[0].appendChild(s);})(document,155137,168905);\n",
       "          </script></body></html>"
      ]
     },
     "execution_count": 65,
     "metadata": {},
     "output_type": "execute_result"
    }
   ],
   "source": [
    "soup"
   ]
  },
  {
   "cell_type": "code",
   "execution_count": 66,
   "id": "07f5c205-cb3c-453e-99d5-9c3123c6d53c",
   "metadata": {},
   "outputs": [],
   "source": [
    "soup.select_one(\"span\").attrs.get(\"data-value\", None)"
   ]
  },
  {
   "cell_type": "code",
   "execution_count": 67,
   "id": "e5f37ab8-bf28-4a6e-8140-1d30d3f3430a",
   "metadata": {},
   "outputs": [
    {
     "data": {
      "text/plain": [
       "'https://api-new.whitepaper.io/documents/pdf?id=H1ugBX9Bd'"
      ]
     },
     "execution_count": 67,
     "metadata": {},
     "output_type": "execute_result"
    }
   ],
   "source": [
    "soup.find('div', class_=\"flex flex-col flex-1\").object.attrs['data']"
   ]
  },
  {
   "cell_type": "code",
   "execution_count": 1,
   "id": "c9702df9-1024-4a86-8931-2f084afed39d",
   "metadata": {},
   "outputs": [],
   "source": [
    "urlpdf='https://api-new.whitepaper.io/documents/pdf?id=SksIiBd6z'"
   ]
  },
  {
   "cell_type": "code",
   "execution_count": 26,
   "id": "82901a58-0bd9-4672-9fee-501e37c18baa",
   "metadata": {},
   "outputs": [
    {
     "name": "stdout",
     "output_type": "stream",
     "text": [
      "10. Privacy\n",
      "The traditional banking model achieves a level of p rivacy by limiting access to information to the \n",
      "parties involved and the trusted third party.  The necessity to announce all transactions publicly \n",
      "precludes this method, but privacy can still be mai ntained by breaking the flow of information in \n",
      "another place: by keeping public keys anonymous.  T he public can see that someone is sending \n",
      "an amount to someone else, but without information linking the transaction to anyone.  This is \n",
      "similar to the level of information released by sto ck exchanges, where the time and size of \n",
      "individual trades, the \"tape\", is made public, but without telling who the parties were.\n",
      "As an additional firewall, a new key pair should be  used for each transaction to keep them \n",
      "from being linked to a common owner.  Some linking is still unavoidable with multi-input \n",
      "transactions, which necessarily reveal that their i nputs were owned by the same owner.  The risk \n",
      "is that if the owner of a key is revealed, linking could reveal other transactions that belonged to \n",
      "the same owner.\n",
      "11. Calculations\n",
      "We consider the scenario of an attacker trying to g enerate an alternate chain faster than the honest \n",
      "chain.  Even if this is accomplished, it does not t hrow the system open to arbitrary changes, such \n",
      "as creating value out of thin air or taking money t hat never belonged to the attacker.  Nodes are \n",
      "not going to accept an invalid transaction as payme nt, and honest nodes will never accept a block \n",
      "containing them.  An attacker can only try to chang e one of his own transactions to take back \n",
      "money he recently spent.\n",
      "The race between the honest chain and an attacker c hain can be characterized as a Binomial \n",
      "Random Walk.  The success event is the honest chain  being extended by one block, increasing its \n",
      "lead by +1, and the failure event is the attacker's  chain being extended by one block, reducing the \n",
      "gap by -1.\n",
      "The probability of an attacker catching up from a g iven deficit is analogous to a Gambler's \n",
      "Ruin problem.  Suppose a gambler with unlimited cre dit starts at a deficit and plays potentially an \n",
      "infinite number of trials to try to reach breakeven .  We can calculate the probability he ever \n",
      "reaches breakeven, or that an attacker ever catches  up with the honest chain, as follows [8]:\n",
      "p = probability an honest node finds the next block\n",
      "q = probability the attacker finds the next block\n",
      "qz = probability the attacker will ever catch up from  z blocks behind\n",
      "qz={1 if p≤q\n",
      "q/pzif pq}\n",
      "6Identities TransactionsTrusted\n",
      "Third PartyCounterparty Public\n",
      "Identities Transactions PublicNew Privacy ModelTraditional Privacy Model\n"
     ]
    }
   ],
   "source": [
    "response = requests.get(urlpdf)\n",
    "with io.BytesIO(response.content) as f:\n",
    "    pdf = PdfReader(f)\n",
    "    number_of_pages = len(pdf.pages)\n",
    "    number_images = len(pdf.pages[5])\n",
    "    print(pdf.pages[5].extract_text())"
   ]
  },
  {
   "cell_type": "code",
   "execution_count": 28,
   "id": "f5638d80-0237-47b1-ae42-41bd8b872468",
   "metadata": {},
   "outputs": [
    {
     "data": {
      "text/plain": [
       "6"
      ]
     },
     "execution_count": 28,
     "metadata": {},
     "output_type": "execute_result"
    }
   ],
   "source": [
    "number_images"
   ]
  }
 ],
 "metadata": {
  "kernelspec": {
   "display_name": "Python 3 (ipykernel)",
   "language": "python",
   "name": "python3"
  },
  "language_info": {
   "codemirror_mode": {
    "name": "ipython",
    "version": 3
   },
   "file_extension": ".py",
   "mimetype": "text/x-python",
   "name": "python",
   "nbconvert_exporter": "python",
   "pygments_lexer": "ipython3",
   "version": "3.11.3"
  }
 },
 "nbformat": 4,
 "nbformat_minor": 5
}
