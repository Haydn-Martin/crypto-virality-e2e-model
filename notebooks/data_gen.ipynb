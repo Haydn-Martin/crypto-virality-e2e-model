{
 "cells": [
  {
   "cell_type": "code",
   "execution_count": 1,
   "id": "81ac3d4b-9472-4c5a-aa74-efe7b5172942",
   "metadata": {},
   "outputs": [],
   "source": [
    "import requests\n",
    "\n",
    "import numpy as np\n",
    "import pandas as pd\n",
    "\n",
    "from pycoingecko import CoinGeckoAPI\n",
    "\n",
    "from bs4 import BeautifulSoup as bts"
   ]
  },
  {
   "cell_type": "markdown",
   "id": "0b42c5e3-cd2a-418f-b9a3-0cc301183ae4",
   "metadata": {
    "jp-MarkdownHeadingCollapsed": true
   },
   "source": [
    "### Why isn't this a script?"
   ]
  },
  {
   "cell_type": "markdown",
   "id": "a4b621dc-1802-4436-8a45-34daa70a7ea3",
   "metadata": {},
   "source": [
    "We are only generating the dataset once. We don't need to write a script that does that is properly formatted and tested, we can do it using a notebooks and test our results at the end."
   ]
  },
  {
   "cell_type": "markdown",
   "id": "2cd83261-0790-4200-a56b-bcab36e490bd",
   "metadata": {},
   "source": [
    "### Using the Coin Gecko API"
   ]
  },
  {
   "cell_type": "code",
   "execution_count": null,
   "id": "c4f79cdd-72cf-44e9-a369-8e4947ea552b",
   "metadata": {},
   "outputs": [],
   "source": []
  }
 ],
 "metadata": {
  "kernelspec": {
   "display_name": "Python 3 (ipykernel)",
   "language": "python",
   "name": "python3"
  },
  "language_info": {
   "codemirror_mode": {
    "name": "ipython",
    "version": 3
   },
   "file_extension": ".py",
   "mimetype": "text/x-python",
   "name": "python",
   "nbconvert_exporter": "python",
   "pygments_lexer": "ipython3",
   "version": "3.11.3"
  }
 },
 "nbformat": 4,
 "nbformat_minor": 5
}
