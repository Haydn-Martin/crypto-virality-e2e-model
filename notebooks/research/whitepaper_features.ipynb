{
 "cells": [
  {
   "cell_type": "markdown",
   "id": "20b42dee-9780-47c5-a1f9-d68849bb3510",
   "metadata": {},
   "source": [
    "## Approach\n",
    "\n",
    "Extract features from whitepapers.\n",
    "\n",
    "No need for real understanding here (models can't do this yet), hence we don't need NLP really - just text extraction using OCR that we can then search for features.\n",
    "\n",
    "Features from whitepapers:\n",
    "\n",
    "1. Number of pages\n",
    "2. Number of words\n",
    "3. Number of equations (?)\n",
    "4. Number of images\n",
    "5. Number of references\n",
    "6. Acronym count: pow, pos, apy, roi\n",
    "7. Word count: leverage, price, attack, token"
   ]
  },
  {
   "cell_type": "markdown",
   "id": "74aece75-11dd-4d13-8c63-35952e29d392",
   "metadata": {
    "jp-MarkdownHeadingCollapsed": true
   },
   "source": [
    "## Experiments"
   ]
  },
  {
   "cell_type": "markdown",
   "id": "b666adcb-402d-4fd5-8135-b098435f67b8",
   "metadata": {},
   "source": [
    "### Nougat"
   ]
  },
  {
   "cell_type": "markdown",
   "id": "b236c464-c925-4a96-b077-e3e2a8ee8861",
   "metadata": {},
   "source": [
    "Ok yeah so this takes waaaay too long without a GPU. Not an option."
   ]
  },
  {
   "cell_type": "markdown",
   "id": "b2d4912a-3068-4f07-a2fc-0e07320531f0",
   "metadata": {
    "jp-MarkdownHeadingCollapsed": true
   },
   "source": [
    "### Document LLM"
   ]
  },
  {
   "cell_type": "markdown",
   "id": "d20185f3-7813-4420-a8e7-50622de3e905",
   "metadata": {},
   "source": [
    "Let's try a document understanding model from Hugging Face."
   ]
  },
  {
   "cell_type": "code",
   "execution_count": 2,
   "id": "05b7c52d-1b0e-49f4-95c9-dce1e7c307ed",
   "metadata": {},
   "outputs": [],
   "source": [
    "from transformers import pipeline"
   ]
  },
  {
   "cell_type": "code",
   "execution_count": 3,
   "id": "93be4389-318f-4c50-970a-31fdab5ed7d5",
   "metadata": {},
   "outputs": [
    {
     "data": {
      "application/vnd.jupyter.widget-view+json": {
       "model_id": "69516433f90e44f6b887585b4a1c21ab",
       "version_major": 2,
       "version_minor": 0
      },
      "text/plain": [
       "config.json:   0%|          | 0.00/789 [00:00<?, ?B/s]"
      ]
     },
     "metadata": {},
     "output_type": "display_data"
    },
    {
     "name": "stderr",
     "output_type": "stream",
     "text": [
      "C:\\Users\\haydn\\PycharmProjects\\crypto-virality-e2e-model\\venv\\Lib\\site-packages\\huggingface_hub\\file_download.py:157: UserWarning: `huggingface_hub` cache-system uses symlinks by default to efficiently store duplicated files but your machine does not support them in C:\\Users\\haydn\\.cache\\huggingface\\hub\\models--impira--layoutlm-document-qa. Caching files will still work but in a degraded version that might require more space on your disk. This warning can be disabled by setting the `HF_HUB_DISABLE_SYMLINKS_WARNING` environment variable. For more details, see https://huggingface.co/docs/huggingface_hub/how-to-cache#limitations.\n",
      "To support symlinks on Windows, you either need to activate Developer Mode or to run Python as an administrator. In order to see activate developer mode, see this article: https://docs.microsoft.com/en-us/windows/apps/get-started/enable-your-device-for-development\n",
      "  warnings.warn(message)\n"
     ]
    },
    {
     "data": {
      "application/vnd.jupyter.widget-view+json": {
       "model_id": "31e136ddebe546779359c7eb1160df01",
       "version_major": 2,
       "version_minor": 0
      },
      "text/plain": [
       "model.safetensors:   0%|          | 0.00/511M [00:00<?, ?B/s]"
      ]
     },
     "metadata": {},
     "output_type": "display_data"
    },
    {
     "data": {
      "application/vnd.jupyter.widget-view+json": {
       "model_id": "58a59d17e4254c888019442c8f03e981",
       "version_major": 2,
       "version_minor": 0
      },
      "text/plain": [
       "tokenizer_config.json:   0%|          | 0.00/315 [00:00<?, ?B/s]"
      ]
     },
     "metadata": {},
     "output_type": "display_data"
    },
    {
     "data": {
      "application/vnd.jupyter.widget-view+json": {
       "model_id": "caca82bf8c0e42bca858dda05ab08b81",
       "version_major": 2,
       "version_minor": 0
      },
      "text/plain": [
       "vocab.json:   0%|          | 0.00/798k [00:00<?, ?B/s]"
      ]
     },
     "metadata": {},
     "output_type": "display_data"
    },
    {
     "data": {
      "application/vnd.jupyter.widget-view+json": {
       "model_id": "2b2f4fd770814d28aec4084b863d8bae",
       "version_major": 2,
       "version_minor": 0
      },
      "text/plain": [
       "merges.txt:   0%|          | 0.00/456k [00:00<?, ?B/s]"
      ]
     },
     "metadata": {},
     "output_type": "display_data"
    },
    {
     "data": {
      "application/vnd.jupyter.widget-view+json": {
       "model_id": "d436228181be45b9b86d33822388b733",
       "version_major": 2,
       "version_minor": 0
      },
      "text/plain": [
       "tokenizer.json:   0%|          | 0.00/1.36M [00:00<?, ?B/s]"
      ]
     },
     "metadata": {},
     "output_type": "display_data"
    },
    {
     "data": {
      "application/vnd.jupyter.widget-view+json": {
       "model_id": "70702a1cfa5145f6a04014597c20c53e",
       "version_major": 2,
       "version_minor": 0
      },
      "text/plain": [
       "special_tokens_map.json:   0%|          | 0.00/239 [00:00<?, ?B/s]"
      ]
     },
     "metadata": {},
     "output_type": "display_data"
    }
   ],
   "source": [
    "nlp = pipeline(\n",
    "    \"document-question-answering\",\n",
    "    model=\"impira/layoutlm-document-qa\",\n",
    ")"
   ]
  },
  {
   "cell_type": "markdown",
   "id": "fc0c1d29-bc01-4500-90f7-7dff700e5e30",
   "metadata": {},
   "source": [
    "Basically need to use individual images and then agregate the outputs...which I can't be bothered to do."
   ]
  },
  {
   "cell_type": "markdown",
   "id": "78913c12-aaaa-40cd-98df-c63e428ea90b",
   "metadata": {},
   "source": [
    "### Element Extraction"
   ]
  },
  {
   "cell_type": "code",
   "execution_count": 7,
   "id": "f660ae21-92b1-48d8-8bea-56b1d90c5964",
   "metadata": {},
   "outputs": [],
   "source": [
    "from PyPDF2 import PdfReader  "
   ]
  },
  {
   "cell_type": "code",
   "execution_count": 33,
   "id": "6f9186c0-aa8e-456e-878b-878c9707c12c",
   "metadata": {},
   "outputs": [],
   "source": [
    "reader = PdfReader(\"whitepaper_examples/Bitcoin_BTC.pdf\")\n",
    "number_of_pages = len(reader.pages)\n",
    "page = reader.pages[8]\n",
    "text = page.extract_text()"
   ]
  },
  {
   "cell_type": "code",
   "execution_count": 51,
   "id": "7199ea37-244f-4773-b343-e573dcabf5fe",
   "metadata": {},
   "outputs": [
    {
     "data": {
      "text/plain": [
       "'%PDF-1.5'"
      ]
     },
     "execution_count": 51,
     "metadata": {},
     "output_type": "execute_result"
    }
   ],
   "source": [
    "reader.pdf_header"
   ]
  },
  {
   "cell_type": "code",
   "execution_count": 34,
   "id": "92288237-99cc-4702-a58a-ce3be28e62d0",
   "metadata": {},
   "outputs": [
    {
     "name": "stdout",
     "output_type": "stream",
     "text": [
      "References\n",
      "[1] W. Dai, \"b-money,\" http://www.weidai.com/bmoney.txt, 1998.\n",
      "[2] H. Massias, X.S. Avila, and J.-J. Quisquater, \"Design of a secure timest amping service with minimal \n",
      "trust requirements,\" In 20th Symposium on Information Theory in the Benelux , May 1999.\n",
      "[3] S. Haber, W.S. Stornetta, \"How to time-stamp a digital document,\" In  Journal of Cryptology , vol 3, no \n",
      "2, pages 99-111, 1991.\n",
      "[4] D. Bayer, S. Haber, W.S. Stornetta, \"Improving the efficiency and re liability of digital time-stamping,\" \n",
      "In Sequences II: Methods in Communication, Security and Computer Science , pages 329-334, 1993.\n",
      "[5] S. Haber, W.S. Stornetta, \"Secure names for bit-strings,\" In Proceedings of the 4th ACM Conference \n",
      "on Computer and Communications Security , pages 28-35, April 1997.\n",
      "[6] A. Back, \"Hashcash - a denial of service counter-measure,\" \n",
      "http://www.hashcash.org/papers/hashcash.pdf, 2002.\n",
      "[7] R.C. Merkle, \"Protocols for public key cryptosystems,\" In Proc. 1980 Symposium on Security and \n",
      "Privacy , IEEE Computer Society, pages 122-133, April 1980.\n",
      "[8] W. Feller, \"An introduction to probability theory and its applications,\" 1957.\n",
      "9\n"
     ]
    }
   ],
   "source": [
    "print(text)"
   ]
  },
  {
   "cell_type": "code",
   "execution_count": 25,
   "id": "eab105d4-867f-4ff0-b5f2-beb2c58847c0",
   "metadata": {},
   "outputs": [
    {
     "data": {
      "text/plain": [
       "9"
      ]
     },
     "execution_count": 25,
     "metadata": {},
     "output_type": "execute_result"
    }
   ],
   "source": [
    "number_of_pages"
   ]
  },
  {
   "cell_type": "code",
   "execution_count": 29,
   "id": "61fc9211-1a8a-48dc-8fe9-bb06c8db6552",
   "metadata": {},
   "outputs": [],
   "source": [
    "reader = PdfReader(\"whitepaper_examples/Binance_BNB.pdf\")\n",
    "number_of_pages = len(reader.pages)\n",
    "page = reader.pages[5]\n",
    "text = page.extract_text()"
   ]
  },
  {
   "cell_type": "code",
   "execution_count": 31,
   "id": "301ecd33-3d14-4c0c-90dd-ed5bfa91145a",
   "metadata": {},
   "outputs": [
    {
     "data": {
      "text/plain": [
       "3"
      ]
     },
     "execution_count": 31,
     "metadata": {},
     "output_type": "execute_result"
    }
   ],
   "source": [
    "len(page.images)"
   ]
  },
  {
   "cell_type": "markdown",
   "id": "9cf58cb4-9d84-4d08-add0-39775d804bca",
   "metadata": {},
   "source": [
    "## Extraction Examples"
   ]
  },
  {
   "cell_type": "markdown",
   "id": "c347bf4b-55d0-448e-bd06-a36ffc8ddd29",
   "metadata": {},
   "source": [
    "### How to get features\n",
    "\n",
    "1. Number of pages --> `len(reader.pages)`\n",
    "2. Number of words --> separate text by spaces, sum\n",
    "3. Number of equations --> count \"=\"\n",
    "4. Number of images --> `len(page.images)`\n",
    "5. Number of references --> search for \"References\" as the first element of the page, count refs below\n",
    "6. Acronym count: pow, pos, apy, roi --> search in page text\n",
    "7. Word count: leverage, price, attack, token --> search in page text"
   ]
  },
  {
   "cell_type": "code",
   "execution_count": null,
   "id": "26fa5a78-d782-43b2-97f6-69648e09dee9",
   "metadata": {},
   "outputs": [],
   "source": []
  }
 ],
 "metadata": {
  "kernelspec": {
   "display_name": "Python 3 (ipykernel)",
   "language": "python",
   "name": "python3"
  },
  "language_info": {
   "codemirror_mode": {
    "name": "ipython",
    "version": 3
   },
   "file_extension": ".py",
   "mimetype": "text/x-python",
   "name": "python",
   "nbconvert_exporter": "python",
   "pygments_lexer": "ipython3",
   "version": "3.11.3"
  }
 },
 "nbformat": 4,
 "nbformat_minor": 5
}
